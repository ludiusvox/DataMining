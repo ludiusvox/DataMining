{
 "cells": [
  {
   "cell_type": "markdown",
   "metadata": {},
   "source": [
    "# Workshop 10: SVMs and Hyperparameter Tuning\n",
    "\n",
    "In this lab, you'll be working with Support Vector Machines."
   ]
  },
  {
   "cell_type": "markdown",
   "metadata": {},
   "source": [
    "## 0) Imports"
   ]
  },
  {
   "cell_type": "code",
   "execution_count": 1,
   "metadata": {},
   "outputs": [],
   "source": [
    "import numpy as np\n",
    "import matplotlib.pyplot as plt\n",
    "import pandas as pd\n",
    "random_state = 42"
   ]
  },
  {
   "cell_type": "code",
   "execution_count": 2,
   "metadata": {},
   "outputs": [],
   "source": [
    "from sklearn.model_selection import train_test_split"
   ]
  },
  {
   "cell_type": "markdown",
   "metadata": {},
   "source": [
    "## 1) Loading the Data\n",
    "\n",
    "First, load the data `svm_data_2020.csv`."
   ]
  },
  {
   "cell_type": "code",
   "execution_count": 3,
   "metadata": {},
   "outputs": [],
   "source": [
    "df = pd.read_csv('./data/svm_data_2020.csv')"
   ]
  },
  {
   "cell_type": "code",
   "execution_count": 4,
   "metadata": {},
   "outputs": [
    {
     "data": {
      "text/plain": [
       "0    83\n",
       "1    73\n",
       "Name: Class, dtype: int64"
      ]
     },
     "execution_count": 4,
     "metadata": {},
     "output_type": "execute_result"
    }
   ],
   "source": [
    "df[\"Class\"].value_counts()"
   ]
  },
  {
   "cell_type": "code",
   "execution_count": 5,
   "metadata": {},
   "outputs": [
    {
     "data": {
      "text/plain": [
       "<bound method NDFrame.head of      Attr1  Attr2  Attr3  Attr4  Attr5  Attr6  Attr7  Attr8  Attr9  Attr10  \\\n",
       "0    0.021  0.028  0.012  0.044  0.043  0.077  0.584  0.143  0.189   0.185   \n",
       "1    0.053  0.056  0.122  0.121  0.025  0.102  0.216  0.044  0.229   0.163   \n",
       "2    0.049  0.028  0.059  0.127  0.177  0.191  0.888  0.077  0.125   0.203   \n",
       "3    0.019  0.061  0.038  0.077  0.139  0.081  0.228  0.022  0.104   0.119   \n",
       "4    0.035  0.051  0.008  0.024  0.043  0.074  0.376  0.113  0.123   0.151   \n",
       "..     ...    ...    ...    ...    ...    ...    ...    ...    ...     ...   \n",
       "151  0.041  0.065  0.040  0.060  0.050  0.182  0.472  0.102  0.058   0.218   \n",
       "152  0.131  0.234  0.306  0.426  0.401  0.179  0.740  0.006  0.193   0.223   \n",
       "153  0.009  0.021  0.021  0.050  0.066  0.080  0.388  0.087  0.074   0.084   \n",
       "154  0.022  0.012  0.017  0.015  0.061  0.103  0.456  0.088  0.116   0.087   \n",
       "155  0.052  0.055  0.084  0.032  0.116  0.092  0.412  0.061  0.146   0.284   \n",
       "\n",
       "     ...  Attr52  Attr53  Attr54  Attr55  Attr56  Attr57  Attr58  Attr59  \\\n",
       "0    ...   0.010   0.001   0.005   0.004   0.003   0.008   0.005   0.002   \n",
       "1    ...   0.034   0.015   0.034   0.038   0.017   0.013   0.010   0.036   \n",
       "2    ...   0.008   0.013   0.016   0.006   0.012   0.019   0.014   0.033   \n",
       "3    ...   0.033   0.013   0.012   0.011   0.002   0.004   0.004   0.011   \n",
       "4    ...   0.004   0.012   0.011   0.011   0.010   0.005   0.002   0.008   \n",
       "..   ...     ...     ...     ...     ...     ...     ...     ...     ...   \n",
       "151  ...   0.006   0.013   0.018   0.007   0.020   0.020   0.010   0.007   \n",
       "152  ...   0.036   0.021   0.015   0.018   0.001   0.011   0.013   0.018   \n",
       "153  ...   0.011   0.011   0.010   0.003   0.010   0.010   0.004   0.007   \n",
       "154  ...   0.005   0.005   0.010   0.013   0.012   0.005   0.002   0.001   \n",
       "155  ...   0.008   0.012   0.004   0.012   0.010   0.008   0.005   0.005   \n",
       "\n",
       "     Attr60  Class  \n",
       "0     0.001      0  \n",
       "1     0.021      0  \n",
       "2     0.044      0  \n",
       "3     0.008      1  \n",
       "4     0.003      0  \n",
       "..      ...    ...  \n",
       "151   0.006      1  \n",
       "152   0.023      0  \n",
       "153   0.011      1  \n",
       "154   0.002      1  \n",
       "155   0.005      1  \n",
       "\n",
       "[156 rows x 61 columns]>"
      ]
     },
     "execution_count": 5,
     "metadata": {},
     "output_type": "execute_result"
    }
   ],
   "source": [
    "df.head"
   ]
  },
  {
   "cell_type": "markdown",
   "metadata": {},
   "source": [
    "## 2) Splitting the Data (Group)\n",
    "\n",
    "Now, split the data into a training and test set. 75% of the data should be in the training set, and 25% should be in the testing set.\n",
    "\n",
    "Report the number of positive and negative samples in both training and testing data."
   ]
  },
  {
   "cell_type": "code",
   "execution_count": 6,
   "metadata": {},
   "outputs": [],
   "source": [
    "# Split data\n",
    "X = df.drop('Class', axis=1)\n",
    "Y = df['Class']\n",
    "X_train, X_test, y_train, y_test = train_test_split(X, Y, train_size=0.75, random_state=42)"
   ]
  },
  {
   "cell_type": "code",
   "execution_count": 7,
   "metadata": {},
   "outputs": [
    {
     "data": {
      "text/plain": [
       "0    65\n",
       "1    52\n",
       "Name: Class, dtype: int64"
      ]
     },
     "execution_count": 7,
     "metadata": {},
     "output_type": "execute_result"
    }
   ],
   "source": [
    "# Report positive and negative samples\n",
    "y_train.value_counts()"
   ]
  },
  {
   "cell_type": "markdown",
   "metadata": {},
   "source": [
    "## 3) Training the Model\n",
    "\n",
    "Now, you will use sklearns [support vector classifier](https://scikit-learn.org/stable/modules/generated/sklearn.svm.SVC.html) to fit a model to this data."
   ]
  },
  {
   "cell_type": "code",
   "execution_count": 8,
   "metadata": {},
   "outputs": [],
   "source": [
    "from sklearn.svm import SVC\n",
    "from sklearn.model_selection import GridSearchCV\n",
    "from sklearn.metrics import classification_report"
   ]
  },
  {
   "cell_type": "markdown",
   "metadata": {},
   "source": [
    "### 3.1 Fitting the Model and Getting the Support Vectors (Group)\n",
    "\n",
    "Fit the SVC to your split data (using the default hyperparams), and report back the number of support vectors. Use `clf.support_vectors_`, which returns a list of the actual support vectors."
   ]
  },
  {
   "cell_type": "code",
   "execution_count": 16,
   "metadata": {
    "scrolled": true
   },
   "outputs": [
    {
     "name": "stdout",
     "output_type": "stream",
     "text": [
      "[[0.037 0.059 0.063 ... 0.011 0.01  0.013]\n",
      " [0.053 0.088 0.2   ... 0.015 0.013 0.006]\n",
      " [0.097 0.082 0.063 ... 0.02  0.021 0.004]\n",
      " ...\n",
      " [0.02  0.01  0.032 ... 0.005 0.007 0.005]\n",
      " [0.02  0.003 0.014 ... 0.002 0.006 0.004]\n",
      " [0.035 0.012 0.019 ... 0.002 0.007 0.007]]\n",
      "108\n",
      "60\n"
     ]
    }
   ],
   "source": [
    "# Create model and get the number of support vectors\n",
    "clf = SVC().fit(X_train, y_train)\n",
    "print(clf.support_vectors_)\n",
    "print(len(clf.support_vectors_))\n",
    "print(len(clf.support_vectors_[0]))\n"
   ]
  },
  {
   "cell_type": "markdown",
   "metadata": {},
   "source": [
    "### 3.2 C hyperparameter vs Support Vector Count (Group)"
   ]
  },
  {
   "cell_type": "markdown",
   "metadata": {},
   "source": [
    "*C* is the regularization hyperparameter in SVMs, and in this problem you'll be looking at how changing *C* affects the number of support vectors.\n",
    "\n",
    "Implement the function `plot_support_vectors` below, which will plot a line chart of the number of support vectors vs. the value of *C*.\n",
    "\n",
    "**Before implementing the function, predict the answer the following questions**\n",
    "1. As C increases, how will the number of support vectors change?\n",
    "2. Why?"
   ]
  },
  {
   "cell_type": "code",
   "execution_count": 21,
   "metadata": {},
   "outputs": [],
   "source": [
    "\"\"\"\n",
    "Input:\n",
    "    params: A list of floats, representing the value of C's to try\n",
    "    \n",
    "Output:\n",
    "    None\n",
    "    Print a line chart of the number of support vectors vs. C\n",
    "    \n",
    "Function:\n",
    "    iterate through params\n",
    "        create an SVC classifier for each c\n",
    "        find the length of the support vectors and append to a list\n",
    "    \n",
    "    create a plot with c on the X axis and length of support vectors on Y\n",
    "\"\"\"\n",
    "\n",
    "def plot_support_vectors(params):\n",
    "    results = {}\n",
    "\n",
    "    for c in params:\n",
    "        clf = SVC(C=c)\n",
    "        results[c] = len(clf.fit(X_train, y_train).support_vectors_)\n",
    "\n",
    "    print(results)\n",
    "    plt.plot(list(results.keys()), list(results.values()), 'bo--')\n",
    "    plt.title('C and its effect on the number of support vectors')\n",
    "    plt.xlabel('C')\n",
    "    plt.ylabel('num of SV')\n",
    "    plt.show()\n",
    "    # Warning, takes a while!\n",
    "    #search = GridSearchCV(model, params)\n",
    "    #search.fit(X_train,y_train)\n",
    "    #return search, search.predict(X_test)"
   ]
  },
  {
   "cell_type": "code",
   "execution_count": 22,
   "metadata": {},
   "outputs": [
    {
     "name": "stdout",
     "output_type": "stream",
     "text": [
      "{0.1: 108, 0.2: 108, 0.3: 108, 0.5: 108, 1: 108, 2: 104, 3: 98, 5: 93, 10: 83}\n"
     ]
    },
    {
     "data": {
      "image/png": "[encoded data removed]",
      "text/plain": [
       "<Figure size 432x288 with 1 Axes>"
      ]
     },
     "metadata": {
      "needs_background": "light"
     },
     "output_type": "display_data"
    }
   ],
   "source": [
    "C = [0.1,0.2,0.3,0.5,1,2,3,5,10]\n",
    "plot_support_vectors(C)"
   ]
  },
  {
   "cell_type": "markdown",
   "metadata": {},
   "source": [
    "**Now that you have a plot, go back to the questions and explain more using the context of the data. If you were wrong, explain your misconception.**"
   ]
  },
  {
   "cell_type": "markdown",
   "metadata": {},
   "source": [
    "## 4) Hyperparam Tuning\n",
    "\n",
    "Compare  the  performance  of  four  different  kernel  functions:  linear (`linear`), polynomial (`poly`),  radial basis function (`rbf`), and `sigmoid`. Not only will you be changing the kernel function, you'll also be optimizing for the different hyperparams.\n",
    "\n",
    "For each type of kernel functions, train your SVM classifiers using the training data and evaluate the resulting SVM classifer using testing data using accuracy, precision, recall and f-measure of the corresponding classification results."
   ]
  },
  {
   "cell_type": "markdown",
   "metadata": {},
   "source": [
    "### 4.1 Basic Hyperparameters (Group)\n",
    "\n",
    "Write a function called `best_hyperparams` that when given a dictionary of params, runs a `GridSearchCV` on an SVC model using the training and test data.\n",
    "\n",
    "Use a `cv` of 5.\n",
    "\n",
    "This function will return the optimized classifier `clf`, and the set of best params (using `clf.best_params_`).\n",
    "\n",
    "See the documentation for [GridSearchCV](https://scikit-learn.org/stable/modules/generated/sklearn.model_selection.GridSearchCV.html) for more info."
   ]
  },
  {
   "cell_type": "code",
   "execution_count": 25,
   "metadata": {},
   "outputs": [],
   "source": [
    "\"\"\"\n",
    "Input:\n",
    "    params_set: A dictionary of params to use for the grid search\n",
    "Output:\n",
    "    The classifier with the best hyperparams\n",
    "    The dict of best params itself\n",
    "    \n",
    "Function:\n",
    "    use gridsearch to find the best SVC classifier\n",
    "    return the best parameters\n",
    "\"\"\"\n",
    "\n",
    "def best_hyperparams(param_set):\n",
    "    clf = GridSearchCV(SVC(), param_set, cv=5)\n",
    "    clf.fit(X_train,y_train)\n",
    "    return clf.best_params_, clf"
   ]
  },
  {
   "cell_type": "code",
   "execution_count": 26,
   "metadata": {},
   "outputs": [],
   "source": [
    "# Here are the value ranges for each of the params.\n",
    "# We will tell you which of these to tune for which kernel.\n",
    "\n",
    "# C is the regularization paramater we've discussed before\n",
    "C = [0.1,0.2,0.3,0.5,1,2,3,5,10]\n",
    "\n",
    "# degree is the degree of the polynomial used for the polynomial kernel\n",
    "degree = [1,2,3,4,5]\n",
    "\n",
    "# coef is the independent term in the kernel function, and is ony used by poly and sigmoid\n",
    "coef0 = [0.0001,0.001,0.002,0.01,0.02,0.1,0.2,0.3,1,2,5,10]\n",
    "\n",
    "# gamma is the kernel coefficent used for rbf, poly, and sigmoid\n",
    "gamma = [0.0001,0.001,0.002,0.01,0.02,0.1,0.2,0.3,1,2,3]"
   ]
  },
  {
   "cell_type": "code",
   "execution_count": 27,
   "metadata": {},
   "outputs": [],
   "source": [
    "from sklearn.metrics import classification_report"
   ]
  },
  {
   "cell_type": "markdown",
   "metadata": {},
   "source": [
    "### Linear Kernel (Follow)\n",
    "For the **linear** kernel, tune `C`."
   ]
  },
  {
   "cell_type": "code",
   "execution_count": 28,
   "metadata": {},
   "outputs": [
    {
     "name": "stdout",
     "output_type": "stream",
     "text": [
      "{'C': 3, 'kernel': 'linear'}\n",
      "              precision    recall  f1-score   support\n",
      "\n",
      "           0       0.89      0.80      0.84        20\n",
      "           1       0.81      0.89      0.85        19\n",
      "\n",
      "    accuracy                           0.85        39\n",
      "   macro avg       0.85      0.85      0.85        39\n",
      "weighted avg       0.85      0.85      0.85        39\n",
      "\n"
     ]
    }
   ],
   "source": [
    "params = [{\n",
    "    \"kernel\":[\"linear\"],\n",
    "    \"C\":C\n",
    "}]\n",
    "\n",
    "params, model = best_hyperparams(params)\n",
    "print(params)\n",
    "predictions = model.predict(X_test)\n",
    "print(classification_report(predictions,y_test))"
   ]
  },
  {
   "cell_type": "markdown",
   "metadata": {},
   "source": [
    "### Poly Kernel (Group)\n",
    "For the **polynomial** kernel, tune `C`, `degree` and `coef0`."
   ]
  },
  {
   "cell_type": "code",
   "execution_count": 30,
   "metadata": {},
   "outputs": [
    {
     "name": "stdout",
     "output_type": "stream",
     "text": [
      "{'C': 5, 'coef0': 2, 'degree': 2, 'kernel': 'poly'}\n",
      "              precision    recall  f1-score   support\n",
      "\n",
      "           0       0.89      0.84      0.86        19\n",
      "           1       0.86      0.90      0.88        20\n",
      "\n",
      "    accuracy                           0.87        39\n",
      "   macro avg       0.87      0.87      0.87        39\n",
      "weighted avg       0.87      0.87      0.87        39\n",
      "\n"
     ]
    }
   ],
   "source": [
    "params = [{\n",
    "    \"kernel\":[\"poly\"],\n",
    "    \"C\":C,\n",
    "    \"degree\": degree,\n",
    "    \"coef0\": coef0\n",
    "}]\n",
    "\n",
    "params, model = best_hyperparams(params)\n",
    "print(params)\n",
    "predictions = model.predict(X_test)\n",
    "print(classification_report(predictions,y_test))"
   ]
  },
  {
   "cell_type": "markdown",
   "metadata": {},
   "source": [
    "### RBF Kernel (Group)\n",
    "For the **rbf** kernel, tune `C` and `gamma`."
   ]
  },
  {
   "cell_type": "code",
   "execution_count": 31,
   "metadata": {},
   "outputs": [
    {
     "name": "stdout",
     "output_type": "stream",
     "text": [
      "{'C': 10, 'gamma': 0.1, 'kernel': 'rbf'}\n",
      "              precision    recall  f1-score   support\n",
      "\n",
      "           0       0.78      0.70      0.74        20\n",
      "           1       0.71      0.79      0.75        19\n",
      "\n",
      "    accuracy                           0.74        39\n",
      "   macro avg       0.75      0.74      0.74        39\n",
      "weighted avg       0.75      0.74      0.74        39\n",
      "\n"
     ]
    }
   ],
   "source": [
    "params = [{\n",
    "    \"kernel\":[\"rbf\"],\n",
    "    \"C\":C,\n",
    "    \"gamma\": gamma\n",
    "}]\n",
    "\n",
    "params, model = best_hyperparams(params)\n",
    "print(params)\n",
    "predictions = model.predict(X_test)\n",
    "print(classification_report(predictions,y_test))"
   ]
  },
  {
   "cell_type": "markdown",
   "metadata": {},
   "source": [
    "### Sigmoid Kernel (Group)\n",
    "\n",
    "For the **sigmoid** kernel, tune `C`, `coef0`, and `gamma`."
   ]
  },
  {
   "cell_type": "code",
   "execution_count": 32,
   "metadata": {},
   "outputs": [
    {
     "name": "stdout",
     "output_type": "stream",
     "text": [
      "{'C': 10, 'coef0': 0.02, 'gamma': 0.01, 'kernel': 'sigmoid'}\n",
      "              precision    recall  f1-score   support\n",
      "\n",
      "           0       0.78      0.58      0.67        24\n",
      "           1       0.52      0.73      0.61        15\n",
      "\n",
      "    accuracy                           0.64        39\n",
      "   macro avg       0.65      0.66      0.64        39\n",
      "weighted avg       0.68      0.64      0.65        39\n",
      "\n"
     ]
    }
   ],
   "source": [
    "params = [{\n",
    "    \"kernel\":[\"sigmoid\"],\n",
    "    \"C\":C,\n",
    "    \"gamma\": gamma,\n",
    "    \"coef0\": coef0\n",
    "}]\n",
    "\n",
    "params, model = best_hyperparams(params)\n",
    "print(params)\n",
    "predictions = model.predict(X_test)\n",
    "print(classification_report(predictions,y_test))"
   ]
  },
  {
   "cell_type": "markdown",
   "metadata": {},
   "source": [
    "### Results\n",
    "\n",
    "Consider the following visualizaion of how SVM predicts with different kernels on different datasets:\n",
    "\n",
    "![Different Kernels](https://i.imgur.com/HKTLn35.png)"
   ]
  },
  {
   "cell_type": "markdown",
   "metadata": {},
   "source": [
    "Given your results, answer the following questions:\n",
    "\n",
    "1. Which kernel performed best?\n",
    "2. What criteria are you using to define the best model?\n",
    "3. Based on the best-performing model(s), what properties do you think the data have (e.g. is is close to linearly separable)?"
   ]
  },
  {
   "cell_type": "markdown",
   "metadata": {},
   "source": [
    "**Answer here**\n",
    "1. \n",
    "2. \n",
    "3. "
   ]
  },
  {
   "cell_type": "markdown",
   "metadata": {},
   "source": [
    "1. Poly is best for this data\n",
    "1. Accuracy\n",
    "1. There is a grouping."
   ]
  }
 ],
 "metadata": {
  "kernelspec": {
   "display_name": "Python 3",
   "language": "python",
   "name": "python3"
  },
  "language_info": {
   "codemirror_mode": {
    "name": "ipython",
    "version": 3
   },
   "file_extension": ".py",
   "mimetype": "text/x-python",
   "name": "python",
   "nbconvert_exporter": "python",
   "pygments_lexer": "ipython3",
   "version": "3.7.7"
  }
 },
 "nbformat": 4,
 "nbformat_minor": 4
}
