{
 "cells": [
  {
   "cell_type": "markdown",
   "metadata": {},
   "source": [
    "# Data and Visualization\n",
    "\n",
    "## The Iris Dataset\n",
    "\n",
    "This is the famous *Iris Dataset*. We can see it has 3 attributes: Septal Length, Septal Width and Petal Length, and on class, which can be Setosa, Verisicolor or Virginica. It has 150 instances, 50 of each class.\n",
    "\n",
    "**Attributes** are in the colums and **instances** in the rows."
   ]
  },
  {
   "cell_type": "code",
   "execution_count": 2,
   "metadata": {},
   "outputs": [],
   "source": [
    "import pandas as pd\n",
    "import numpy as np\n",
    "import matplotlib.pyplot as plt"
   ]
  },
  {
   "cell_type": "code",
   "execution_count": 3,
   "metadata": {},
   "outputs": [
    {
     "data": {
      "text/html": [
       "<div>\n",
       "<style scoped>\n",
       "    .dataframe tbody tr th:only-of-type {\n",
       "        vertical-align: middle;\n",
       "    }\n",
       "\n",
       "    .dataframe tbody tr th {\n",
       "        vertical-align: top;\n",
       "    }\n",
       "\n",
       "    .dataframe thead th {\n",
       "        text-align: right;\n",
       "    }\n",
       "</style>\n",
       "<table border=\"1\" class=\"dataframe\">\n",
       "  <thead>\n",
       "    <tr style=\"text-align: right;\">\n",
       "      <th></th>\n",
       "      <th>sepal_length</th>\n",
       "      <th>sepal_width</th>\n",
       "      <th>petal_length</th>\n",
       "      <th>petal_width</th>\n",
       "      <th>species</th>\n",
       "    </tr>\n",
       "  </thead>\n",
       "  <tbody>\n",
       "    <tr>\n",
       "      <th>0</th>\n",
       "      <td>5.1</td>\n",
       "      <td>3.5</td>\n",
       "      <td>1.4</td>\n",
       "      <td>0.2</td>\n",
       "      <td>setosa</td>\n",
       "    </tr>\n",
       "    <tr>\n",
       "      <th>1</th>\n",
       "      <td>4.9</td>\n",
       "      <td>3.0</td>\n",
       "      <td>1.4</td>\n",
       "      <td>0.2</td>\n",
       "      <td>setosa</td>\n",
       "    </tr>\n",
       "    <tr>\n",
       "      <th>2</th>\n",
       "      <td>4.7</td>\n",
       "      <td>3.2</td>\n",
       "      <td>1.3</td>\n",
       "      <td>0.2</td>\n",
       "      <td>setosa</td>\n",
       "    </tr>\n",
       "    <tr>\n",
       "      <th>3</th>\n",
       "      <td>4.6</td>\n",
       "      <td>3.1</td>\n",
       "      <td>1.5</td>\n",
       "      <td>0.2</td>\n",
       "      <td>setosa</td>\n",
       "    </tr>\n",
       "    <tr>\n",
       "      <th>4</th>\n",
       "      <td>5.0</td>\n",
       "      <td>3.6</td>\n",
       "      <td>1.4</td>\n",
       "      <td>0.2</td>\n",
       "      <td>setosa</td>\n",
       "    </tr>\n",
       "    <tr>\n",
       "      <th>...</th>\n",
       "      <td>...</td>\n",
       "      <td>...</td>\n",
       "      <td>...</td>\n",
       "      <td>...</td>\n",
       "      <td>...</td>\n",
       "    </tr>\n",
       "    <tr>\n",
       "      <th>145</th>\n",
       "      <td>6.7</td>\n",
       "      <td>3.0</td>\n",
       "      <td>5.2</td>\n",
       "      <td>2.3</td>\n",
       "      <td>virginica</td>\n",
       "    </tr>\n",
       "    <tr>\n",
       "      <th>146</th>\n",
       "      <td>6.3</td>\n",
       "      <td>2.5</td>\n",
       "      <td>5.0</td>\n",
       "      <td>1.9</td>\n",
       "      <td>virginica</td>\n",
       "    </tr>\n",
       "    <tr>\n",
       "      <th>147</th>\n",
       "      <td>6.5</td>\n",
       "      <td>3.0</td>\n",
       "      <td>5.2</td>\n",
       "      <td>2.0</td>\n",
       "      <td>virginica</td>\n",
       "    </tr>\n",
       "    <tr>\n",
       "      <th>148</th>\n",
       "      <td>6.2</td>\n",
       "      <td>3.4</td>\n",
       "      <td>5.4</td>\n",
       "      <td>2.3</td>\n",
       "      <td>virginica</td>\n",
       "    </tr>\n",
       "    <tr>\n",
       "      <th>149</th>\n",
       "      <td>5.9</td>\n",
       "      <td>3.0</td>\n",
       "      <td>5.1</td>\n",
       "      <td>1.8</td>\n",
       "      <td>virginica</td>\n",
       "    </tr>\n",
       "  </tbody>\n",
       "</table>\n",
       "<p>150 rows × 5 columns</p>\n",
       "</div>"
      ],
      "text/plain": [
       "     sepal_length  sepal_width  petal_length  petal_width    species\n",
       "0             5.1          3.5           1.4          0.2     setosa\n",
       "1             4.9          3.0           1.4          0.2     setosa\n",
       "2             4.7          3.2           1.3          0.2     setosa\n",
       "3             4.6          3.1           1.5          0.2     setosa\n",
       "4             5.0          3.6           1.4          0.2     setosa\n",
       "..            ...          ...           ...          ...        ...\n",
       "145           6.7          3.0           5.2          2.3  virginica\n",
       "146           6.3          2.5           5.0          1.9  virginica\n",
       "147           6.5          3.0           5.2          2.0  virginica\n",
       "148           6.2          3.4           5.4          2.3  virginica\n",
       "149           5.9          3.0           5.1          1.8  virginica\n",
       "\n",
       "[150 rows x 5 columns]"
      ]
     },
     "execution_count": 3,
     "metadata": {},
     "output_type": "execute_result"
    }
   ],
   "source": [
    "iris = pd.read_csv('/etc/data/iris.csv')\n",
    "iris"
   ]
  },
  {
   "cell_type": "markdown",
   "metadata": {},
   "source": [
    "## Unsupervised Learning\n",
    "\n",
    "**Goal**: Describe interesting patterns in the dataset *without* knowing the class labels"
   ]
  },
  {
   "cell_type": "code",
   "execution_count": 4,
   "metadata": {},
   "outputs": [
    {
     "data": {
      "text/plain": [
       "<matplotlib.collections.PathCollection at 0x7fed58a64860>"
      ]
     },
     "execution_count": 4,
     "metadata": {},
     "output_type": "execute_result"
    },
    {
     "data": {
      "image/png": "[encoded data removed]",
      "text/plain": [
       "<Figure size 432x288 with 1 Axes>"
      ]
     },
     "metadata": {
      "needs_background": "light"
     },
     "output_type": "display_data"
    }
   ],
   "source": [
    "from sklearn.cluster import KMeans\n",
    "\n",
    "# Use only 2 attribute columns: petal length and width (no class data)\n",
    "iris_2c = iris.iloc[:,2:4]\n",
    "# Run k-means clustering on only these two columns,\n",
    "# using 1 data-point from each class to start the clusters\n",
    "kmeans = KMeans(n_clusters=3, init=iris_2c.iloc[[1, 51, 101]], n_init=1).fit(iris_2c)\n",
    "iris['cluster'] = kmeans.labels_\n",
    "\n",
    "# Plot the result, using cluster for color\n",
    "plt.scatter(iris['petal_length'], iris['petal_width'], c=iris['cluster'])"
   ]
  },
  {
   "cell_type": "markdown",
   "metadata": {},
   "source": [
    "## The Actual Class of the Iris data\n",
    "\n",
    "If we use the actual class of each instance, instead of the clusters, we get very similar results."
   ]
  },
  {
   "cell_type": "code",
   "execution_count": 4,
   "metadata": {},
   "outputs": [
    {
     "data": {
      "text/plain": [
       "<matplotlib.collections.PathCollection at 0x7ff41453ba58>"
      ]
     },
     "execution_count": 4,
     "metadata": {},
     "output_type": "execute_result"
    },
    {
     "data": {
      "image/png": "[encoded data removed]",
      "text/plain": [
       "<Figure size 432x288 with 1 Axes>"
      ]
     },
     "metadata": {
      "needs_background": "light"
     },
     "output_type": "display_data"
    }
   ],
   "source": [
    "# Matplot requires the color to be specified as a number, so we use pd.factorize\n",
    "# to convert the species (string) to a number\n",
    "iris['species_int'] = pd.factorize(iris['species'])[0]\n",
    "plt.scatter(iris['petal_length'], iris['petal_width'], c=iris['species_int'])"
   ]
  },
  {
   "cell_type": "markdown",
   "metadata": {},
   "source": [
    "## The Difference\n",
    "\n",
    "The two plots differ by only a few data points."
   ]
  },
  {
   "cell_type": "code",
   "execution_count": 5,
   "metadata": {},
   "outputs": [
    {
     "data": {
      "text/plain": [
       "<matplotlib.collections.PathCollection at 0x7ff4144bc400>"
      ]
     },
     "execution_count": 5,
     "metadata": {},
     "output_type": "execute_result"
    },
    {
     "data": {
      "image/png": "[encoded data removed]",
      "text/plain": [
       "<Figure size 432x288 with 1 Axes>"
      ]
     },
     "metadata": {
      "needs_background": "light"
     },
     "output_type": "display_data"
    }
   ],
   "source": [
    "# Plot the cluster labels\n",
    "iris['label'] = iris['cluster']\n",
    "# But add a 4th label for points that were \"misclassified\" by the clustering\n",
    "# Set the label only for those rows where cluster != species\n",
    "iris.loc[iris['species_int'] != iris['cluster'], 'label'] = 3\n",
    "plt.scatter(iris['petal_length'], iris['petal_width'], c=iris['label'])"
   ]
  },
  {
   "cell_type": "markdown",
   "metadata": {},
   "source": [
    "## Summary Statistics\n",
    "\n",
    "**Frequency**: How often does each value occur"
   ]
  },
  {
   "cell_type": "code",
   "execution_count": 6,
   "metadata": {},
   "outputs": [
    {
     "data": {
      "text/plain": [
       "versicolor    50\n",
       "virginica     50\n",
       "setosa        50\n",
       "Name: species, dtype: int64"
      ]
     },
     "execution_count": 6,
     "metadata": {},
     "output_type": "execute_result"
    }
   ],
   "source": [
    "# Tip: If you column is a valid property name, you can use \"dot notation\"\n",
    "iris.species.value_counts()"
   ]
  },
  {
   "cell_type": "markdown",
   "metadata": {},
   "source": [
    "**Mode**: the *most* frequent value(s):"
   ]
  },
  {
   "cell_type": "code",
   "execution_count": 7,
   "metadata": {},
   "outputs": [
    {
     "name": "stdout",
     "output_type": "stream",
     "text": [
      "Mode:  1.5  with count: 14\n"
     ]
    }
   ],
   "source": [
    "mode = iris.petal_length.mode()[0]\n",
    "print(\"Mode: \", mode, \" with count:\", sum(iris.petal_length == mode))"
   ]
  },
  {
   "cell_type": "markdown",
   "metadata": {},
   "source": [
    "**Mean**: The average value. This is the most common summary statistic, but it is also very sensitive to outliers."
   ]
  },
  {
   "cell_type": "code",
   "execution_count": 8,
   "metadata": {},
   "outputs": [
    {
     "data": {
      "text/plain": [
       "3.758666666666666"
      ]
     },
     "execution_count": 8,
     "metadata": {},
     "output_type": "execute_result"
    }
   ],
   "source": [
    "iris.petal_length.mean()"
   ]
  },
  {
   "cell_type": "markdown",
   "metadata": {},
   "source": [
    "**Median**: The 50th percentile value or \"middle\" value"
   ]
  },
  {
   "cell_type": "code",
   "execution_count": 9,
   "metadata": {},
   "outputs": [
    {
     "data": {
      "text/plain": [
       "4.35"
      ]
     },
     "execution_count": 9,
     "metadata": {},
     "output_type": "execute_result"
    }
   ],
   "source": [
    "iris.petal_length.median()"
   ]
  },
  {
   "cell_type": "markdown",
   "metadata": {},
   "source": [
    "**Variance**: Measure of the spread of the data:\n"
   ]
  },
  {
   "cell_type": "code",
   "execution_count": 10,
   "metadata": {},
   "outputs": [
    {
     "data": {
      "text/plain": [
       "3.113179418344519"
      ]
     },
     "execution_count": 10,
     "metadata": {},
     "output_type": "execute_result"
    }
   ],
   "source": [
    "iris.petal_length.var()"
   ]
  },
  {
   "cell_type": "markdown",
   "metadata": {},
   "source": [
    "**Standard deviation**: Square root of the variance:\n"
   ]
  },
  {
   "cell_type": "code",
   "execution_count": 11,
   "metadata": {},
   "outputs": [
    {
     "data": {
      "text/plain": [
       "1.7644204199522626"
      ]
     },
     "execution_count": 11,
     "metadata": {},
     "output_type": "execute_result"
    }
   ],
   "source": [
    "iris.petal_length.std()"
   ]
  },
  {
   "cell_type": "markdown",
   "metadata": {},
   "source": [
    "The `describe` function give us all of this at once:\n"
   ]
  },
  {
   "cell_type": "code",
   "execution_count": 12,
   "metadata": {},
   "outputs": [
    {
     "data": {
      "text/html": [
       "<div>\n",
       "<style scoped>\n",
       "    .dataframe tbody tr th:only-of-type {\n",
       "        vertical-align: middle;\n",
       "    }\n",
       "\n",
       "    .dataframe tbody tr th {\n",
       "        vertical-align: top;\n",
       "    }\n",
       "\n",
       "    .dataframe thead th {\n",
       "        text-align: right;\n",
       "    }\n",
       "</style>\n",
       "<table border=\"1\" class=\"dataframe\">\n",
       "  <thead>\n",
       "    <tr style=\"text-align: right;\">\n",
       "      <th></th>\n",
       "      <th>sepal_length</th>\n",
       "      <th>sepal_width</th>\n",
       "      <th>petal_length</th>\n",
       "      <th>petal_width</th>\n",
       "      <th>cluster</th>\n",
       "      <th>species_int</th>\n",
       "      <th>label</th>\n",
       "    </tr>\n",
       "  </thead>\n",
       "  <tbody>\n",
       "    <tr>\n",
       "      <th>count</th>\n",
       "      <td>150.000000</td>\n",
       "      <td>150.000000</td>\n",
       "      <td>150.000000</td>\n",
       "      <td>150.000000</td>\n",
       "      <td>150.000000</td>\n",
       "      <td>150.000000</td>\n",
       "      <td>150.000000</td>\n",
       "    </tr>\n",
       "    <tr>\n",
       "      <th>mean</th>\n",
       "      <td>5.843333</td>\n",
       "      <td>3.054000</td>\n",
       "      <td>3.758667</td>\n",
       "      <td>1.198667</td>\n",
       "      <td>0.986667</td>\n",
       "      <td>1.000000</td>\n",
       "      <td>1.053333</td>\n",
       "    </tr>\n",
       "    <tr>\n",
       "      <th>std</th>\n",
       "      <td>0.828066</td>\n",
       "      <td>0.433594</td>\n",
       "      <td>1.764420</td>\n",
       "      <td>0.763161</td>\n",
       "      <td>0.810888</td>\n",
       "      <td>0.819232</td>\n",
       "      <td>0.895827</td>\n",
       "    </tr>\n",
       "    <tr>\n",
       "      <th>min</th>\n",
       "      <td>4.300000</td>\n",
       "      <td>2.000000</td>\n",
       "      <td>1.000000</td>\n",
       "      <td>0.100000</td>\n",
       "      <td>0.000000</td>\n",
       "      <td>0.000000</td>\n",
       "      <td>0.000000</td>\n",
       "    </tr>\n",
       "    <tr>\n",
       "      <th>25%</th>\n",
       "      <td>5.100000</td>\n",
       "      <td>2.800000</td>\n",
       "      <td>1.600000</td>\n",
       "      <td>0.300000</td>\n",
       "      <td>0.000000</td>\n",
       "      <td>0.000000</td>\n",
       "      <td>0.000000</td>\n",
       "    </tr>\n",
       "    <tr>\n",
       "      <th>50%</th>\n",
       "      <td>5.800000</td>\n",
       "      <td>3.000000</td>\n",
       "      <td>4.350000</td>\n",
       "      <td>1.300000</td>\n",
       "      <td>1.000000</td>\n",
       "      <td>1.000000</td>\n",
       "      <td>1.000000</td>\n",
       "    </tr>\n",
       "    <tr>\n",
       "      <th>75%</th>\n",
       "      <td>6.400000</td>\n",
       "      <td>3.300000</td>\n",
       "      <td>5.100000</td>\n",
       "      <td>1.800000</td>\n",
       "      <td>2.000000</td>\n",
       "      <td>2.000000</td>\n",
       "      <td>2.000000</td>\n",
       "    </tr>\n",
       "    <tr>\n",
       "      <th>max</th>\n",
       "      <td>7.900000</td>\n",
       "      <td>4.400000</td>\n",
       "      <td>6.900000</td>\n",
       "      <td>2.500000</td>\n",
       "      <td>2.000000</td>\n",
       "      <td>2.000000</td>\n",
       "      <td>3.000000</td>\n",
       "    </tr>\n",
       "  </tbody>\n",
       "</table>\n",
       "</div>"
      ],
      "text/plain": [
       "       sepal_length  sepal_width  petal_length  petal_width     cluster  \\\n",
       "count    150.000000   150.000000    150.000000   150.000000  150.000000   \n",
       "mean       5.843333     3.054000      3.758667     1.198667    0.986667   \n",
       "std        0.828066     0.433594      1.764420     0.763161    0.810888   \n",
       "min        4.300000     2.000000      1.000000     0.100000    0.000000   \n",
       "25%        5.100000     2.800000      1.600000     0.300000    0.000000   \n",
       "50%        5.800000     3.000000      4.350000     1.300000    1.000000   \n",
       "75%        6.400000     3.300000      5.100000     1.800000    2.000000   \n",
       "max        7.900000     4.400000      6.900000     2.500000    2.000000   \n",
       "\n",
       "       species_int       label  \n",
       "count   150.000000  150.000000  \n",
       "mean      1.000000    1.053333  \n",
       "std       0.819232    0.895827  \n",
       "min       0.000000    0.000000  \n",
       "25%       0.000000    0.000000  \n",
       "50%       1.000000    1.000000  \n",
       "75%       2.000000    2.000000  \n",
       "max       2.000000    3.000000  "
      ]
     },
     "execution_count": 12,
     "metadata": {},
     "output_type": "execute_result"
    }
   ],
   "source": [
    "iris.describe()"
   ]
  },
  {
   "cell_type": "markdown",
   "metadata": {},
   "source": [
    "# Normalization\n",
    "\n",
    "Different attirubte will have different mean and SD values:"
   ]
  },
  {
   "cell_type": "code",
   "execution_count": 13,
   "metadata": {},
   "outputs": [
    {
     "data": {
      "text/plain": [
       "(array([37., 13.,  0.,  3.,  8., 26., 29., 18., 11.,  5.]),\n",
       " array([1.  , 1.59, 2.18, 2.77, 3.36, 3.95, 4.54, 5.13, 5.72, 6.31, 6.9 ]),\n",
       " <BarContainer object of 10 artists>)"
      ]
     },
     "execution_count": 13,
     "metadata": {},
     "output_type": "execute_result"
    },
    {
     "data": {
      "image/png": "[encoded data removed]",
      "text/plain": [
       "<Figure size 432x288 with 1 Axes>"
      ]
     },
     "metadata": {
      "needs_background": "light"
     },
     "output_type": "display_data"
    }
   ],
   "source": [
    "plt.hist(iris.petal_length)"
   ]
  },
  {
   "cell_type": "markdown",
   "metadata": {},
   "source": [
    "After normalization, the mean will be 0 and SD 1:"
   ]
  },
  {
   "cell_type": "code",
   "execution_count": 14,
   "metadata": {},
   "outputs": [
    {
     "data": {
      "text/plain": [
       "(array([37., 13.,  0.,  3.,  8., 26., 29., 18., 11.,  5.]),\n",
       " array([-1.56873522, -1.23322757, -0.89771991, -0.56221226, -0.22670461,\n",
       "         0.10880305,  0.4443107 ,  0.77981835,  1.11532601,  1.45083366,\n",
       "         1.78634131]),\n",
       " <BarContainer object of 10 artists>)"
      ]
     },
     "execution_count": 14,
     "metadata": {},
     "output_type": "execute_result"
    },
    {
     "data": {
      "image/png": "[encoded data removed]",
      "text/plain": [
       "<Figure size 432x288 with 1 Axes>"
      ]
     },
     "metadata": {
      "needs_background": "light"
     },
     "output_type": "display_data"
    }
   ],
   "source": [
    "from sklearn import preprocessing\n",
    "# sklearn's StandardScaler will z-score normalize a whole numeric dataframe\n",
    "iris_norm = preprocessing.StandardScaler().fit_transform(iris.iloc[:,0:4])\n",
    "plt.hist(iris_norm[:,2])"
   ]
  },
  {
   "cell_type": "markdown",
   "metadata": {},
   "source": [
    "## Plotting Histograms\n",
    "\n",
    "Histograms are a good way to visualize a single attribute:\n"
   ]
  },
  {
   "cell_type": "code",
   "execution_count": 15,
   "metadata": {},
   "outputs": [
    {
     "data": {
      "text/plain": [
       "(array([41.,  8.,  1.,  7.,  8., 33.,  6., 23.,  9., 14.]),\n",
       " array([0.1 , 0.34, 0.58, 0.82, 1.06, 1.3 , 1.54, 1.78, 2.02, 2.26, 2.5 ]),\n",
       " <BarContainer object of 10 artists>)"
      ]
     },
     "execution_count": 15,
     "metadata": {},
     "output_type": "execute_result"
    },
    {
     "data": {
      "image/png": "[encoded data removed]",
      "text/plain": [
       "<Figure size 432x288 with 1 Axes>"
      ]
     },
     "metadata": {
      "needs_background": "light"
     },
     "output_type": "display_data"
    }
   ],
   "source": [
    "plt.hist(iris.petal_width)"
   ]
  },
  {
   "cell_type": "markdown",
   "metadata": {},
   "source": [
    "Changing the number of bins can alter the visualization:"
   ]
  },
  {
   "cell_type": "code",
   "execution_count": 16,
   "metadata": {},
   "outputs": [
    {
     "data": {
      "text/plain": [
       "(array([ 6.,  0., 28.,  0.,  7.,  0.,  7.,  0.,  1.,  0.,  1.,  0.,  0.,\n",
       "         0.,  0.,  0.,  0.,  0.,  7.,  0.,  3.,  0.,  5.,  0.,  0., 13.,\n",
       "         0.,  8.,  0., 12.,  0.,  4.,  0.,  2.,  0., 12.,  0.,  5.,  0.,\n",
       "         6.,  0.,  6.,  0.,  3.,  0.,  8.,  0.,  3.,  0.,  3.]),\n",
       " array([0.1  , 0.148, 0.196, 0.244, 0.292, 0.34 , 0.388, 0.436, 0.484,\n",
       "        0.532, 0.58 , 0.628, 0.676, 0.724, 0.772, 0.82 , 0.868, 0.916,\n",
       "        0.964, 1.012, 1.06 , 1.108, 1.156, 1.204, 1.252, 1.3  , 1.348,\n",
       "        1.396, 1.444, 1.492, 1.54 , 1.588, 1.636, 1.684, 1.732, 1.78 ,\n",
       "        1.828, 1.876, 1.924, 1.972, 2.02 , 2.068, 2.116, 2.164, 2.212,\n",
       "        2.26 , 2.308, 2.356, 2.404, 2.452, 2.5  ]),\n",
       " <BarContainer object of 50 artists>)"
      ]
     },
     "execution_count": 16,
     "metadata": {},
     "output_type": "execute_result"
    },
    {
     "data": {
      "image/png": "[encoded data removed]",
      "text/plain": [
       "<Figure size 432x288 with 1 Axes>"
      ]
     },
     "metadata": {
      "needs_background": "light"
     },
     "output_type": "display_data"
    }
   ],
   "source": [
    "plt.hist(iris.petal_width, bins=50)"
   ]
  },
  {
   "cell_type": "markdown",
   "metadata": {},
   "source": [
    "## 2D Histograms\n",
    "\n",
    "We can also bin data by 2 attributes at once:"
   ]
  },
  {
   "cell_type": "code",
   "execution_count": 17,
   "metadata": {},
   "outputs": [
    {
     "data": {
      "text/plain": [
       "(array([[33.,  8.,  0.,  0.,  0.,  0.,  0.,  0.,  0.,  0.],\n",
       "        [ 4.,  4.,  0.,  0.,  0.,  0.,  0.,  0.,  0.,  0.],\n",
       "        [ 0.,  1.,  0.,  0.,  0.,  0.,  0.,  0.,  0.,  0.],\n",
       "        [ 0.,  0.,  0.,  2.,  3.,  2.,  0.,  0.,  0.,  0.],\n",
       "        [ 0.,  0.,  0.,  1.,  3.,  3.,  1.,  0.,  0.,  0.],\n",
       "        [ 0.,  0.,  0.,  0.,  2., 19., 11.,  1.,  0.,  0.],\n",
       "        [ 0.,  0.,  0.,  0.,  0.,  2.,  3.,  0.,  1.,  0.],\n",
       "        [ 0.,  0.,  0.,  0.,  0.,  0., 12.,  5.,  4.,  2.],\n",
       "        [ 0.,  0.,  0.,  0.,  0.,  0.,  0.,  5.,  2.,  2.],\n",
       "        [ 0.,  0.,  0.,  0.,  0.,  0.,  2.,  7.,  4.,  1.]]),\n",
       " array([0.1 , 0.34, 0.58, 0.82, 1.06, 1.3 , 1.54, 1.78, 2.02, 2.26, 2.5 ]),\n",
       " array([1.  , 1.59, 2.18, 2.77, 3.36, 3.95, 4.54, 5.13, 5.72, 6.31, 6.9 ]),\n",
       " <matplotlib.collections.QuadMesh at 0x7ff414141630>)"
      ]
     },
     "execution_count": 17,
     "metadata": {},
     "output_type": "execute_result"
    },
    {
     "data": {
      "image/png": "[encoded data removed]",
      "text/plain": [
       "<Figure size 432x288 with 1 Axes>"
      ]
     },
     "metadata": {
      "needs_background": "light"
     },
     "output_type": "display_data"
    }
   ],
   "source": [
    "plt.hist2d(iris.petal_width, iris.petal_length)"
   ]
  },
  {
   "cell_type": "markdown",
   "metadata": {},
   "source": [
    "## Boxplots\n",
    "Boxplots show us the 25th, 50th and 75th percentiles of the data, along with the min and max:"
   ]
  },
  {
   "cell_type": "code",
   "execution_count": 18,
   "metadata": {},
   "outputs": [
    {
     "data": {
      "text/plain": [
       "{'whiskers': [<matplotlib.lines.Line2D at 0x7ff4141246a0>,\n",
       "  <matplotlib.lines.Line2D at 0x7ff414124978>],\n",
       " 'caps': [<matplotlib.lines.Line2D at 0x7ff414124c88>,\n",
       "  <matplotlib.lines.Line2D at 0x7ff414124f60>],\n",
       " 'boxes': [<matplotlib.lines.Line2D at 0x7ff41416dc88>],\n",
       " 'medians': [<matplotlib.lines.Line2D at 0x7ff414131278>],\n",
       " 'fliers': [<matplotlib.lines.Line2D at 0x7ff414131550>],\n",
       " 'means': []}"
      ]
     },
     "execution_count": 18,
     "metadata": {},
     "output_type": "execute_result"
    },
    {
     "data": {
      "image/png": "[encoded data removed]",
      "text/plain": [
       "<Figure size 432x288 with 1 Axes>"
      ]
     },
     "metadata": {
      "needs_background": "light"
     },
     "output_type": "display_data"
    }
   ],
   "source": [
    "plt.boxplot(iris.petal_width)"
   ]
  },
  {
   "cell_type": "markdown",
   "metadata": {},
   "source": [
    "We can plot all 4 numerical attributes at the same time."
   ]
  },
  {
   "cell_type": "code",
   "execution_count": 19,
   "metadata": {},
   "outputs": [
    {
     "data": {
      "text/plain": [
       "{'whiskers': [<matplotlib.lines.Line2D at 0x7ff414085c50>,\n",
       "  <matplotlib.lines.Line2D at 0x7ff414085f60>,\n",
       "  <matplotlib.lines.Line2D at 0x7ff4140a50f0>,\n",
       "  <matplotlib.lines.Line2D at 0x7ff4140a53c8>,\n",
       "  <matplotlib.lines.Line2D at 0x7ff4140b3518>,\n",
       "  <matplotlib.lines.Line2D at 0x7ff4140b37f0>,\n",
       "  <matplotlib.lines.Line2D at 0x7ff414042940>,\n",
       "  <matplotlib.lines.Line2D at 0x7ff414042c18>],\n",
       " 'caps': [<matplotlib.lines.Line2D at 0x7ff414097278>,\n",
       "  <matplotlib.lines.Line2D at 0x7ff414097550>,\n",
       "  <matplotlib.lines.Line2D at 0x7ff4140a56a0>,\n",
       "  <matplotlib.lines.Line2D at 0x7ff4140a5978>,\n",
       "  <matplotlib.lines.Line2D at 0x7ff4140b3ac8>,\n",
       "  <matplotlib.lines.Line2D at 0x7ff4140b3da0>,\n",
       "  <matplotlib.lines.Line2D at 0x7ff414042ef0>,\n",
       "  <matplotlib.lines.Line2D at 0x7ff41404f208>],\n",
       " 'boxes': [<matplotlib.lines.Line2D at 0x7ff414085ba8>,\n",
       "  <matplotlib.lines.Line2D at 0x7ff414097cf8>,\n",
       "  <matplotlib.lines.Line2D at 0x7ff4140b3160>,\n",
       "  <matplotlib.lines.Line2D at 0x7ff414042588>],\n",
       " 'medians': [<matplotlib.lines.Line2D at 0x7ff414097828>,\n",
       "  <matplotlib.lines.Line2D at 0x7ff4140a5c50>,\n",
       "  <matplotlib.lines.Line2D at 0x7ff4140420b8>,\n",
       "  <matplotlib.lines.Line2D at 0x7ff41404f4e0>],\n",
       " 'fliers': [<matplotlib.lines.Line2D at 0x7ff414097b00>,\n",
       "  <matplotlib.lines.Line2D at 0x7ff4140a5f28>,\n",
       "  <matplotlib.lines.Line2D at 0x7ff414042390>,\n",
       "  <matplotlib.lines.Line2D at 0x7ff41404f7b8>],\n",
       " 'means': []}"
      ]
     },
     "execution_count": 19,
     "metadata": {},
     "output_type": "execute_result"
    },
    {
     "data": {
      "image/png": "[encoded data removed]",
      "text/plain": [
       "<Figure size 432x288 with 1 Axes>"
      ]
     },
     "metadata": {
      "needs_background": "light"
     },
     "output_type": "display_data"
    }
   ],
   "source": [
    "plt.boxplot(iris.iloc[:,0:4])"
   ]
  },
  {
   "cell_type": "markdown",
   "metadata": {},
   "source": [
    "We can even compare an attribute across species, to see for which it's higher:"
   ]
  },
  {
   "cell_type": "code",
   "execution_count": 20,
   "metadata": {},
   "outputs": [
    {
     "data": {
      "text/plain": [
       "{'whiskers': [<matplotlib.lines.Line2D at 0x7ff41403f828>,\n",
       "  <matplotlib.lines.Line2D at 0x7ff41403fb00>,\n",
       "  <matplotlib.lines.Line2D at 0x7ff413fcec88>,\n",
       "  <matplotlib.lines.Line2D at 0x7ff413fcef60>],\n",
       " 'caps': [<matplotlib.lines.Line2D at 0x7ff41403fdd8>,\n",
       "  <matplotlib.lines.Line2D at 0x7ff413fce128>,\n",
       "  <matplotlib.lines.Line2D at 0x7ff413fdc278>,\n",
       "  <matplotlib.lines.Line2D at 0x7ff413fdc550>],\n",
       " 'boxes': [<matplotlib.lines.Line2D at 0x7ff41403f780>,\n",
       "  <matplotlib.lines.Line2D at 0x7ff413fce8d0>],\n",
       " 'medians': [<matplotlib.lines.Line2D at 0x7ff413fce400>,\n",
       "  <matplotlib.lines.Line2D at 0x7ff413fdc828>],\n",
       " 'fliers': [<matplotlib.lines.Line2D at 0x7ff413fce6d8>,\n",
       "  <matplotlib.lines.Line2D at 0x7ff413fdcb00>],\n",
       " 'means': []}"
      ]
     },
     "execution_count": 20,
     "metadata": {},
     "output_type": "execute_result"
    },
    {
     "data": {
      "image/png": "[encoded data removed]",
      "text/plain": [
       "<Figure size 432x288 with 1 Axes>"
      ]
     },
     "metadata": {
      "needs_background": "light"
     },
     "output_type": "display_data"
    }
   ],
   "source": [
    "plt.boxplot([\n",
    "    iris.petal_width[iris.species == 'setosa'],\n",
    "    iris.petal_width[iris.species == 'virginica']\n",
    "])"
   ]
  },
  {
   "cell_type": "markdown",
   "metadata": {},
   "source": [
    "## Scatter Plots\n",
    "\n",
    "The `scatter_matrix` from `pandas.plotting` function can also show pairwise scatter plots for each pair of variables in a dataframe:"
   ]
  },
  {
   "cell_type": "code",
   "execution_count": 21,
   "metadata": {},
   "outputs": [
    {
     "data": {
      "image/png": "[encoded data removed]",
      "text/plain": [
       "<Figure size 432x432 with 16 Axes>"
      ]
     },
     "metadata": {
      "needs_background": "light"
     },
     "output_type": "display_data"
    }
   ],
   "source": [
    "from pandas.plotting import scatter_matrix\n",
    "scatter_matrix(iris.iloc[:,0:4], alpha=0.8, figsize=(6, 6), diagonal=\"hist\");"
   ]
  },
  {
   "cell_type": "markdown",
   "metadata": {},
   "source": [
    "## Aggregation\n",
    "In an OLAP data-cube, we need to pick *one or more* attributes to aggregate over, and *one* attribute to summarize. In this case, we will aggregate the `sepal_length` and use `mean` to summarize.\n",
    "\n",
    "We can aggregate over *one* variable (a 1-D data cube, or a \"data line\"), in this case \"Species\":"
   ]
  },
  {
   "cell_type": "code",
   "execution_count": 22,
   "metadata": {},
   "outputs": [
    {
     "data": {
      "text/plain": [
       "species\n",
       "setosa        5.006\n",
       "versicolor    5.936\n",
       "virginica     6.588\n",
       "Name: sepal_length, dtype: float64"
      ]
     },
     "execution_count": 22,
     "metadata": {},
     "output_type": "execute_result"
    }
   ],
   "source": [
    "iris.groupby(by='species').sepal_length.mean()"
   ]
  },
  {
   "cell_type": "markdown",
   "metadata": {},
   "source": [
    "Unlike in a data cube, we can also summarize multiple attributes:"
   ]
  },
  {
   "cell_type": "code",
   "execution_count": 23,
   "metadata": {},
   "outputs": [
    {
     "data": {
      "text/html": [
       "<div>\n",
       "<style scoped>\n",
       "    .dataframe tbody tr th:only-of-type {\n",
       "        vertical-align: middle;\n",
       "    }\n",
       "\n",
       "    .dataframe tbody tr th {\n",
       "        vertical-align: top;\n",
       "    }\n",
       "\n",
       "    .dataframe thead th {\n",
       "        text-align: right;\n",
       "    }\n",
       "</style>\n",
       "<table border=\"1\" class=\"dataframe\">\n",
       "  <thead>\n",
       "    <tr style=\"text-align: right;\">\n",
       "      <th></th>\n",
       "      <th>sepal_length</th>\n",
       "      <th>sepal_width</th>\n",
       "      <th>petal_length</th>\n",
       "      <th>petal_width</th>\n",
       "      <th>cluster</th>\n",
       "      <th>species_int</th>\n",
       "      <th>label</th>\n",
       "    </tr>\n",
       "    <tr>\n",
       "      <th>species</th>\n",
       "      <th></th>\n",
       "      <th></th>\n",
       "      <th></th>\n",
       "      <th></th>\n",
       "      <th></th>\n",
       "      <th></th>\n",
       "      <th></th>\n",
       "    </tr>\n",
       "  </thead>\n",
       "  <tbody>\n",
       "    <tr>\n",
       "      <th>setosa</th>\n",
       "      <td>5.006</td>\n",
       "      <td>3.418</td>\n",
       "      <td>1.464</td>\n",
       "      <td>0.244</td>\n",
       "      <td>0.00</td>\n",
       "      <td>0</td>\n",
       "      <td>0.00</td>\n",
       "    </tr>\n",
       "    <tr>\n",
       "      <th>versicolor</th>\n",
       "      <td>5.936</td>\n",
       "      <td>2.770</td>\n",
       "      <td>4.260</td>\n",
       "      <td>1.326</td>\n",
       "      <td>1.04</td>\n",
       "      <td>1</td>\n",
       "      <td>1.08</td>\n",
       "    </tr>\n",
       "    <tr>\n",
       "      <th>virginica</th>\n",
       "      <td>6.588</td>\n",
       "      <td>2.974</td>\n",
       "      <td>5.552</td>\n",
       "      <td>2.026</td>\n",
       "      <td>1.92</td>\n",
       "      <td>2</td>\n",
       "      <td>2.08</td>\n",
       "    </tr>\n",
       "  </tbody>\n",
       "</table>\n",
       "</div>"
      ],
      "text/plain": [
       "            sepal_length  sepal_width  petal_length  petal_width  cluster  \\\n",
       "species                                                                     \n",
       "setosa             5.006        3.418         1.464        0.244     0.00   \n",
       "versicolor         5.936        2.770         4.260        1.326     1.04   \n",
       "virginica          6.588        2.974         5.552        2.026     1.92   \n",
       "\n",
       "            species_int  label  \n",
       "species                         \n",
       "setosa                0   0.00  \n",
       "versicolor            1   1.08  \n",
       "virginica             2   2.08  "
      ]
     },
     "execution_count": 23,
     "metadata": {},
     "output_type": "execute_result"
    }
   ],
   "source": [
    "iris.groupby(by='species').mean()"
   ]
  },
  {
   "cell_type": "markdown",
   "metadata": {},
   "source": [
    "Any value we want to aggregate over must be discrete, so to use continuous attributes, we must discretize them:"
   ]
  },
  {
   "cell_type": "code",
   "execution_count": 24,
   "metadata": {},
   "outputs": [
    {
     "data": {
      "text/plain": [
       "(3.95, 5.425]     61\n",
       "(0.994, 2.475]    50\n",
       "(5.425, 6.9]      28\n",
       "(2.475, 3.95]     11\n",
       "Name: petal_length_disc, dtype: int64"
      ]
     },
     "execution_count": 24,
     "metadata": {},
     "output_type": "execute_result"
    }
   ],
   "source": [
    "# Cut will discretize the attribute into 4 equal-width bins\n",
    "# Note: you can use qcut to get equal-frequency bins\n",
    "iris['petal_length_disc'] = pd.cut(iris.petal_length, 4)\n",
    "iris.petal_length_disc.value_counts()"
   ]
  },
  {
   "cell_type": "markdown",
   "metadata": {},
   "source": [
    "If we aggregate Petal.Width over our discretized Petal.Length value, we get:\n"
   ]
  },
  {
   "cell_type": "code",
   "execution_count": 25,
   "metadata": {},
   "outputs": [
    {
     "data": {
      "text/plain": [
       "petal_length_disc\n",
       "(0.994, 2.475]    0.244000\n",
       "(2.475, 3.95]     1.109091\n",
       "(3.95, 5.425]     1.591803\n",
       "(5.425, 6.9]      2.082143\n",
       "Name: petal_width, dtype: float64"
      ]
     },
     "execution_count": 25,
     "metadata": {},
     "output_type": "execute_result"
    }
   ],
   "source": [
    "iris.groupby(by='petal_length_disc').petal_width.mean()"
   ]
  },
  {
   "cell_type": "markdown",
   "metadata": {},
   "source": [
    "We can aggregate over 2 values to get a 2-D data cube. Notice that not all cells have a value, since not all combinations of Species and Petal.Length exist:"
   ]
  },
  {
   "cell_type": "code",
   "execution_count": 26,
   "metadata": {},
   "outputs": [
    {
     "data": {
      "text/plain": [
       "species     petal_length_disc\n",
       "setosa      (0.994, 2.475]       0.244000\n",
       "            (2.475, 3.95]             NaN\n",
       "            (3.95, 5.425]             NaN\n",
       "            (5.425, 6.9]              NaN\n",
       "versicolor  (0.994, 2.475]            NaN\n",
       "            (2.475, 3.95]        1.109091\n",
       "            (3.95, 5.425]        1.387179\n",
       "            (5.425, 6.9]              NaN\n",
       "virginica   (0.994, 2.475]            NaN\n",
       "            (2.475, 3.95]             NaN\n",
       "            (3.95, 5.425]        1.954545\n",
       "            (5.425, 6.9]         2.082143\n",
       "Name: petal_width, dtype: float64"
      ]
     },
     "execution_count": 26,
     "metadata": {},
     "output_type": "execute_result"
    }
   ],
   "source": [
    "iris.groupby(by=['species', 'petal_length_disc']).petal_width.mean()"
   ]
  },
  {
   "cell_type": "markdown",
   "metadata": {},
   "source": [
    "We can also use other summarizing functions, such as `count`, or even provide a custom function."
   ]
  },
  {
   "cell_type": "code",
   "execution_count": 27,
   "metadata": {},
   "outputs": [
    {
     "data": {
      "text/plain": [
       "species     petal_length_disc\n",
       "setosa      (0.994, 2.475]       50\n",
       "            (2.475, 3.95]         0\n",
       "            (3.95, 5.425]         0\n",
       "            (5.425, 6.9]          0\n",
       "versicolor  (0.994, 2.475]        0\n",
       "            (2.475, 3.95]        11\n",
       "            (3.95, 5.425]        39\n",
       "            (5.425, 6.9]          0\n",
       "virginica   (0.994, 2.475]        0\n",
       "            (2.475, 3.95]         0\n",
       "            (3.95, 5.425]        22\n",
       "            (5.425, 6.9]         28\n",
       "Name: petal_width, dtype: int64"
      ]
     },
     "execution_count": 27,
     "metadata": {},
     "output_type": "execute_result"
    }
   ],
   "source": [
    "iris.groupby(by=['species', 'petal_length_disc']).petal_width.count()"
   ]
  }
 ],
 "metadata": {
  "kernelspec": {
   "display_name": "Python 3",
   "language": "python",
   "name": "python3"
  },
  "language_info": {
   "codemirror_mode": {
    "name": "ipython",
    "version": 3
   },
   "file_extension": ".py",
   "mimetype": "text/x-python",
   "name": "python",
   "nbconvert_exporter": "python",
   "pygments_lexer": "ipython3",
   "version": "3.8.12"
  }
 },
 "nbformat": 4,
 "nbformat_minor": 4
}
